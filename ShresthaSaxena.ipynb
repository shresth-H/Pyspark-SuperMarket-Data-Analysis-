{
  "nbformat": 4,
  "nbformat_minor": 0,
  "metadata": {
    "colab": {
      "name": "ShresthaSaxena_SubratShukla.ipynb",
      "provenance": [],
      "collapsed_sections": []
    },
    "kernelspec": {
      "name": "python3",
      "display_name": "Python 3"
    },
    "language_info": {
      "name": "python"
    }
  },
  "cells": [
    {
      "cell_type": "code",
      "execution_count": null,
      "metadata": {
        "colab": {
          "base_uri": "https://localhost:8080/"
        },
        "id": "006nqlie8vXI",
        "outputId": "066e1003-6c44-475b-ad36-f9a55de2e163"
      },
      "outputs": [
        {
          "output_type": "stream",
          "name": "stdout",
          "text": [
            "Collecting pyspark\n",
            "  Downloading pyspark-3.2.1.tar.gz (281.4 MB)\n",
            "\u001b[K     |████████████████████████████████| 281.4 MB 32 kB/s \n",
            "\u001b[?25hCollecting py4j==0.10.9.3\n",
            "  Downloading py4j-0.10.9.3-py2.py3-none-any.whl (198 kB)\n",
            "\u001b[K     |████████████████████████████████| 198 kB 49.0 MB/s \n",
            "\u001b[?25hBuilding wheels for collected packages: pyspark\n",
            "  Building wheel for pyspark (setup.py) ... \u001b[?25l\u001b[?25hdone\n",
            "  Created wheel for pyspark: filename=pyspark-3.2.1-py2.py3-none-any.whl size=281853642 sha256=5fbe1225df9d4fa6106eddb20576fc436d1011793911b16204e2dfe44c4a0c66\n",
            "  Stored in directory: /root/.cache/pip/wheels/9f/f5/07/7cd8017084dce4e93e84e92efd1e1d5334db05f2e83bcef74f\n",
            "Successfully built pyspark\n",
            "Installing collected packages: py4j, pyspark\n",
            "Successfully installed py4j-0.10.9.3 pyspark-3.2.1\n"
          ]
        }
      ],
      "source": [
        "!pip install pyspark"
      ]
    },
    {
      "cell_type": "code",
      "source": [
        "!pip install -q findspark"
      ],
      "metadata": {
        "id": "HCfuqfgw9Hsm"
      },
      "execution_count": null,
      "outputs": []
    },
    {
      "cell_type": "code",
      "source": [
        "import findspark\n",
        "findspark.init()"
      ],
      "metadata": {
        "id": "4wUNj8qYDcpY"
      },
      "execution_count": null,
      "outputs": []
    },
    {
      "cell_type": "code",
      "source": [
        "import pandas as pd"
      ],
      "metadata": {
        "id": "6mprbzOF-si9"
      },
      "execution_count": null,
      "outputs": []
    },
    {
      "cell_type": "code",
      "source": [
        "from pyspark.sql import SparkSession\n",
        "spark = SparkSession.builder\\\n",
        "        .master(\"local\")\\\n",
        "        .appName(\"Colab\")\\\n",
        "        .config('spark.ui.port', '4050')\\\n",
        "        .getOrCreate()"
      ],
      "metadata": {
        "id": "wu03LN639a-9"
      },
      "execution_count": null,
      "outputs": []
    },
    {
      "cell_type": "code",
      "source": [
        "pdf = pd.read_excel('SAMPLE_SUPERSTORE.xlsx')\n",
        "df = spark.createDataFrame(pdf)"
      ],
      "metadata": {
        "id": "KmXPmICy-A_e"
      },
      "execution_count": null,
      "outputs": []
    },
    {
      "cell_type": "code",
      "source": [
        "df.show()"
      ],
      "metadata": {
        "colab": {
          "base_uri": "https://localhost:8080/"
        },
        "id": "Pc_CO1Dz_NmT",
        "outputId": "88925b25-600f-4413-a9d1-34bf6358a857"
      },
      "execution_count": null,
      "outputs": [
        {
          "output_type": "stream",
          "name": "stdout",
          "text": [
            "+-------+--------------------+-------------------+-------------------+--------------+------------+----------------+-----------+-----------+-------------+---------------+-------------+---------------+------------+-----------+---------------+------------+--------------------+------------------+--------+--------+------------------+-------------+--------------+\n",
            "| Row_ID|            Order_ID|         Order_Date|          Ship_Date|     Ship_Mode| Customer_ID|   Customer_Name|    Segment|Postal_Code|         City|          State|      Country|         Region|      Market| Product_ID|       Category|Sub-Category|        Product_Name|             Sales|Quantity|Discount|            Profit|Shipping_Cost|Order_Priority|\n",
            "+-------+--------------------+-------------------+-------------------+--------------+------------+----------------+-----------+-----------+-------------+---------------+-------------+---------------+------------+-----------+---------------+------------+--------------------+------------------+--------+--------+------------------+-------------+--------------+\n",
            "|40098.0|CA-2014-AB1001514...|2014-11-11 00:00:00|2014-11-13 00:00:00|   First Class|AB-100151402|   Aaron Bergman|   Consumer|    73120.0|Oklahoma City|       Oklahoma|United States|     Central US|        USCA|TEC-PH-5816|     Technology|      Phones|    Samsung Convoy 3|            221.98|     2.0|     0.0| 62.15440000000001|        40.77|          High|\n",
            "|26341.0|IN-2014-JR162107-...|2014-02-05 00:00:00|2014-02-07 00:00:00|  Second Class|   JR-162107|   Justin Ritter|  Corporate|        NaN|   Wollongong|New South Wales|    Australia|        Oceania|Asia Pacific|FUR-CH-5379|      Furniture|      Chairs|Novimex Executive...|3709.3949999999995|     9.0|     0.1|          -288.765|       923.63|      Critical|\n",
            "|25330.0|IN-2014-CR127307-...|2014-10-17 00:00:00|2014-10-18 00:00:00|   First Class|   CR-127307|    Craig Reiter|   Consumer|        NaN|     Brisbane|     Queensland|    Australia|        Oceania|Asia Pacific|TEC-PH-5356|     Technology|      Phones|Nokia Smart Phone...| 5175.171000000001|     9.0|     0.1| 919.9709999999997|       915.49|        Medium|\n",
            "|13524.0|ES-2014-KM1637548...|2014-01-28 00:00:00|2014-01-30 00:00:00|   First Class|  KM-1637548|Katherine Murray|Home Office|        NaN|       Berlin|         Berlin|      Germany| Western Europe|      Europe|TEC-PH-5267|     Technology|      Phones|Motorola Smart Ph...|2892.5099999999998|     5.0|     0.1|-96.54000000000005|       910.16|        Medium|\n",
            "|47221.0|SG-2014-RH9495111...|2014-11-05 00:00:00|2014-11-06 00:00:00|      Same Day|  RH-9495111|     Rick Hansen|   Consumer|        NaN|        Dakar|          Dakar|      Senegal| Western Africa|      Africa|TEC-CO-6011|     Technology|     Copiers|Sharp Wireless Fa...|           2832.96|     8.0|     0.0|            311.52|       903.04|      Critical|\n",
            "|22732.0|IN-2014-JM156557-...|2014-06-28 00:00:00|2014-07-01 00:00:00|  Second Class|   JM-156557|     Jim Mitchum|  Corporate|        NaN|       Sydney|New South Wales|    Australia|        Oceania|Asia Pacific|TEC-PH-5842|     Technology|      Phones|Samsung Smart Pho...|          2862.675|     5.0|     0.1| 763.2750000000001|       897.35|      Critical|\n",
            "|30570.0|IN-2012-TS2134092...|2012-11-06 00:00:00|2012-11-08 00:00:00|   First Class|  TS-2134092|   Toby Swindell|   Consumer|        NaN|      Porirua|     Wellington|  New Zealand|        Oceania|Asia Pacific|FUR-CH-5378|      Furniture|      Chairs|Novimex Executive...|1822.0799999999997|     4.0|     0.0|            564.84|       894.77|      Critical|\n",
            "|31192.0|IN-2013-MB1808592...|2013-04-14 00:00:00|2013-04-18 00:00:00|Standard Class|  MB-1808592|      Mick Brown|   Consumer|        NaN|     Hamilton|        Waikato|  New Zealand|        Oceania|Asia Pacific|FUR-TA-3764|      Furniture|      Tables|Chromcraft Confer...|           5244.84|     6.0|     0.0| 996.4799999999999|       878.38|          High|\n",
            "|40099.0|CA-2014-AB1001514...|2014-11-11 00:00:00|2014-11-13 00:00:00|   First Class|AB-100151402|   Aaron Bergman|   Consumer|    73120.0|Oklahoma City|       Oklahoma|United States|     Central US|        USCA|FUR-BO-5957|      Furniture|   Bookcases|Sauder Facets Col...|            341.96|     2.0|     0.0|54.713599999999985|        25.27|          High|\n",
            "|36258.0|CA-2012-AB1001514...|2012-03-06 00:00:00|2012-03-07 00:00:00|   First Class|AB-100151404|   Aaron Bergman|   Consumer|    98103.0|      Seattle|     Washington|United States|     Western US|        USCA|FUR-CH-4421|      Furniture|      Chairs|Global Push Butto...|            48.712|     1.0|     0.2| 5.480099999999997|        11.13|          High|\n",
            "|36259.0|CA-2012-AB1001514...|2012-03-06 00:00:00|2012-03-07 00:00:00|   First Class|AB-100151404|   Aaron Bergman|   Consumer|    98103.0|      Seattle|     Washington|United States|     Western US|        USCA|OFF-AR-5309|Office Supplies|         Art|          Newell 330|             17.94|     3.0|     0.0|4.6644000000000005|         4.29|          High|\n",
            "|28879.0|ID-2013-AJ107801-...|2013-04-19 00:00:00|2013-04-22 00:00:00|   First Class|   AJ-107801|  Anthony Jacobs|  Corporate|        NaN|        Kabul|          Kabul|  Afghanistan|  Southern Asia|Asia Pacific|FUR-TA-3420|      Furniture|      Tables|Bevis Conference ...|           4626.15|     5.0|     0.0|            647.55|       835.57|          High|\n",
            "|45794.0|SA-2012-MM7260110...|2012-12-26 00:00:00|2012-12-28 00:00:00|  Second Class|  MM-7260110| Magdelene Morse|   Consumer|        NaN|        Jizan|          Jizan| Saudi Arabia|   Western Asia|Asia Pacific|TEC-PH-3807|     Technology|      Phones|Cisco Smart Phone...|           2616.96|     4.0|     0.0|            1151.4|       832.41|      Critical|\n",
            "| 4132.0|MX-2013-VF2171518...|2013-11-13 00:00:00|2013-11-13 00:00:00|      Same Day|  VF-2171518|  Vicky Freymann|Home Office|        NaN|       Toledo|         Parana|       Brazil|  South America|       LATAM|FUR-CH-4530|      Furniture|      Chairs|Harbour Creations...|            2221.8|     7.0|     0.0|            622.02|       810.25|      Critical|\n",
            "|27704.0|IN-2014-PF1912027...|2014-06-06 00:00:00|2014-06-08 00:00:00|  Second Class|  PF-1912027|    Peter Fuller|   Consumer|        NaN|   Mudanjiang|   Heilongjiang|        China|   Eastern Asia|Asia Pacific|OFF-AP-4959|Office Supplies|  Appliances|KitchenAid Microw...|3701.5199999999995|    12.0|     0.0|           1036.08|       804.54|      Critical|\n",
            "|13779.0|ES-2015-BP1118545...|2015-07-31 00:00:00|2015-08-03 00:00:00|  Second Class|  BP-1118545|    Ben Peterman|  Corporate|        NaN|        Paris|  Ile-de-France|       France| Western Europe|      Europe|OFF-AP-3575|Office Supplies|  Appliances|Breville Refriger...|1869.5879999999997|     4.0|     0.1|186.94800000000004|       801.66|      Critical|\n",
            "|39519.0|CA-2012-AB1001514...|2012-02-19 00:00:00|2012-02-25 00:00:00|Standard Class|AB-100151402|   Aaron Bergman|   Consumer|    76017.0|    Arlington|          Texas|United States|     Central US|        USCA|OFF-ST-3078|Office Supplies|     Storage|  Akro Stacking Bins|            12.624|     2.0|     0.2|-2.524800000000002|         1.97|           Low|\n",
            "|12069.0|ES-2015-PJ1883564...|2015-09-08 00:00:00|2015-09-14 00:00:00|Standard Class|  PJ-1883564|   Patrick Jones|  Corporate|        NaN|        Prato|        Tuscany|        Italy|Southern Europe|      Europe|OFF-AP-4743|Office Supplies|  Appliances|   Hoover Stove, Red|           7958.58|    14.0|     0.0|3979.0799999999995|       778.32|           Low|\n",
            "|22096.0|IN-2015-JS156857-...|2015-01-31 00:00:00|2015-02-01 00:00:00|   First Class|   JS-156857|        Jim Sink|  Corporate|        NaN|   Townsville|     Queensland|    Australia|        Oceania|Asia Pacific|TEC-CO-3597|     Technology|     Copiers|Brother Fax Machi...|          2565.594|     9.0|     0.1| 28.40399999999994|       766.93|      Critical|\n",
            "|49463.0|TZ-2015-RH9555129...|2015-12-05 00:00:00|2015-12-07 00:00:00|  Second Class|  RH-9555129| Ritsa Hightower|   Consumer|        NaN|       Uvinza|         Kigoma|     Tanzania| Eastern Africa|      Africa|OFF-AP-4967|Office Supplies|  Appliances|KitchenAid Stove,...|           3409.74|     6.0|     0.0|            818.28|       763.38|          High|\n",
            "+-------+--------------------+-------------------+-------------------+--------------+------------+----------------+-----------+-----------+-------------+---------------+-------------+---------------+------------+-----------+---------------+------------+--------------------+------------------+--------+--------+------------------+-------------+--------------+\n",
            "only showing top 20 rows\n",
            "\n"
          ]
        }
      ]
    },
    {
      "cell_type": "markdown",
      "source": [
        "Total 3 countries having maximum sale"
      ],
      "metadata": {
        "id": "ITYSAArgC_Vf"
      }
    },
    {
      "cell_type": "code",
      "source": [
        "df.groupby('Country').agg({'Sales': 'sum'}).sort(\"sum(Sales)\",ascending=False).show(3)"
      ],
      "metadata": {
        "colab": {
          "base_uri": "https://localhost:8080/"
        },
        "id": "z-QbTs2tACLS",
        "outputId": "d0f08e2b-994f-4ad9-b16f-114a55bd1057"
      },
      "execution_count": null,
      "outputs": [
        {
          "output_type": "stream",
          "name": "stdout",
          "text": [
            "+-------------+------------------+\n",
            "|      Country|        sum(Sales)|\n",
            "+-------------+------------------+\n",
            "|United States|2297200.8602999537|\n",
            "|    Australia| 925235.8529999999|\n",
            "|       France| 858931.0829999994|\n",
            "+-------------+------------------+\n",
            "only showing top 3 rows\n",
            "\n"
          ]
        }
      ]
    },
    {
      "cell_type": "markdown",
      "source": [
        "Number of Products on different order priority"
      ],
      "metadata": {
        "id": "Wpxle1m5DdYP"
      }
    },
    {
      "cell_type": "code",
      "source": [
        "df.groupBy(\"Order_Priority\").count().sort(\"count\",ascending=False).show()"
      ],
      "metadata": {
        "id": "ZIF4N_BMDeHj",
        "colab": {
          "base_uri": "https://localhost:8080/"
        },
        "outputId": "171fe785-6f15-40df-88dc-cd51700b2624"
      },
      "execution_count": null,
      "outputs": [
        {
          "output_type": "stream",
          "name": "stdout",
          "text": [
            "+--------------+-----+\n",
            "|Order_Priority|count|\n",
            "+--------------+-----+\n",
            "|        Medium|29433|\n",
            "|          High|15501|\n",
            "|      Critical| 3932|\n",
            "|           Low| 2424|\n",
            "+--------------+-----+\n",
            "\n"
          ]
        }
      ]
    },
    {
      "cell_type": "markdown",
      "source": [
        "Average shipping cost of different ship modes."
      ],
      "metadata": {
        "id": "XNb9dsAGaLez"
      }
    },
    {
      "cell_type": "code",
      "source": [
        "df.groupby('Ship_Mode').agg({'Shipping_Cost': 'avg'}).sort(\"avg(Shipping_Cost)\",ascending=False).show()"
      ],
      "metadata": {
        "colab": {
          "base_uri": "https://localhost:8080/"
        },
        "id": "cIFYmdJOZMrV",
        "outputId": "02fed388-ff06-4363-c51b-5911f31bd565"
      },
      "execution_count": null,
      "outputs": [
        {
          "output_type": "stream",
          "name": "stdout",
          "text": [
            "+--------------+------------------+\n",
            "|     Ship_Mode|avg(Shipping_Cost)|\n",
            "+--------------+------------------+\n",
            "|      Same Day| 42.99915438726389|\n",
            "|   First Class| 41.11732732045308|\n",
            "|  Second Class| 30.55677469783682|\n",
            "|Standard Class|20.092596441917028|\n",
            "+--------------+------------------+\n",
            "\n"
          ]
        }
      ]
    },
    {
      "cell_type": "markdown",
      "source": [
        "Percentage of ordered products with discount and without discount."
      ],
      "metadata": {
        "id": "HhVKzajMZXAt"
      }
    },
    {
      "cell_type": "code",
      "source": [
        "from pyspark.sql.functions import when, lit, col\n",
        "from pyspark.sql.window import Window\n",
        "import pyspark.sql.functions as f\n",
        "df1 = df.select('Discount')\n",
        "df2 = df1.withColumn(\"Ordered_Products\", when(col(\"Discount\") == 0,lit(\"No_Discount_available\")).otherwise(lit(\"Discount_available\")))\n",
        "df3 = df2.groupby(\"Ordered_Products\").count()\n",
        "per = df3.withColumn('Percentage',f.col('count')/f.sum('count').over(Window.partitionBy())*100)\n",
        "per.show(truncate=False)\n"
      ],
      "metadata": {
        "colab": {
          "base_uri": "https://localhost:8080/"
        },
        "id": "r4i501rwZBjX",
        "outputId": "c124a751-24ab-4064-a7c4-3d78043c4268"
      },
      "execution_count": null,
      "outputs": [
        {
          "output_type": "stream",
          "name": "stdout",
          "text": [
            "+---------------------+-----+------------------+\n",
            "|Ordered_Products     |count|Percentage        |\n",
            "+---------------------+-----+------------------+\n",
            "|No_Discount_available|29009|56.558783388574774|\n",
            "|Discount_available   |22281|43.44121661142523 |\n",
            "+---------------------+-----+------------------+\n",
            "\n"
          ]
        }
      ]
    },
    {
      "cell_type": "markdown",
      "source": [
        "Top 5 cities having maximum profit"
      ],
      "metadata": {
        "id": "EMuzzHdBe3AI"
      }
    },
    {
      "cell_type": "code",
      "source": [
        "df.groupby('City').agg({'Profit': 'sum'}).sort(\"sum(Profit)\",ascending=False).show(5)"
      ],
      "metadata": {
        "colab": {
          "base_uri": "https://localhost:8080/"
        },
        "id": "wLG2-bAPats0",
        "outputId": "8f4eb90f-71f0-4d54-ec76-2f2206440469"
      },
      "execution_count": null,
      "outputs": [
        {
          "output_type": "stream",
          "name": "stdout",
          "text": [
            "+-------------+------------------+\n",
            "|         City|       sum(Profit)|\n",
            "+-------------+------------------+\n",
            "|New York City|62036.983699999975|\n",
            "|  Los Angeles| 30440.75789999999|\n",
            "|      Seattle|29156.096699999984|\n",
            "|      Managua|17853.718039999996|\n",
            "|San Francisco|17507.385399999977|\n",
            "+-------------+------------------+\n",
            "only showing top 5 rows\n",
            "\n"
          ]
        }
      ]
    },
    {
      "cell_type": "markdown",
      "source": [
        "Number of days in between order date and shipping date of the product."
      ],
      "metadata": {
        "id": "zRSxn2hPmDG2"
      }
    },
    {
      "cell_type": "code",
      "source": [
        "from pyspark.sql.functions import *\n",
        "df1=df.select('Order_ID','Order_Date','Ship_Date')\n",
        "df2=df1.withColumn('DiffInHours',(unix_timestamp(\"Ship_Date\") - unix_timestamp('Order_Date'))/3600) \\\n",
        "    .withColumn(\"DiffInDays\",round(col(\"DiffInHours\")/24)) \\\n",
        "    .sort(\"DiffInDays\",ascending=False)\n",
        "df2.show(truncate=False)\n",
        "\n",
        "df3=df2.select('DiffInDays')\n",
        "df3.groupby('DiffInDays').count().show()"
      ],
      "metadata": {
        "colab": {
          "base_uri": "https://localhost:8080/"
        },
        "id": "cf04Qt-GfFv7",
        "outputId": "a2c0c94f-60f4-4a5d-f28a-d2c84d8e127a"
      },
      "execution_count": null,
      "outputs": [
        {
          "output_type": "stream",
          "name": "stdout",
          "text": [
            "+------------------------+-------------------+-------------------+-----------+----------+\n",
            "|Order_ID                |Order_Date         |Ship_Date          |DiffInHours|DiffInDays|\n",
            "+------------------------+-------------------+-------------------+-----------+----------+\n",
            "|IR-2013-KN670560-41508  |2013-08-22 00:00:00|2013-08-29 00:00:00|168.0      |7.0       |\n",
            "|MX-2014-SS2014018-41658 |2014-01-19 00:00:00|2014-01-26 00:00:00|168.0      |7.0       |\n",
            "|IN-2013-KN163907-41611  |2013-12-03 00:00:00|2013-12-10 00:00:00|168.0      |7.0       |\n",
            "|CA-2015-AB10060140-42315|2015-11-07 00:00:00|2015-11-14 00:00:00|168.0      |7.0       |\n",
            "|ID-2012-BM115757-41149  |2012-08-28 00:00:00|2012-09-04 00:00:00|168.0      |7.0       |\n",
            "|CA-2015-AB10060140-42315|2015-11-07 00:00:00|2015-11-14 00:00:00|168.0      |7.0       |\n",
            "|IN-2012-AG1049527-41248 |2012-12-05 00:00:00|2012-12-12 00:00:00|168.0      |7.0       |\n",
            "|CA-2012-AS10090140-41173|2012-09-21 00:00:00|2012-09-28 00:00:00|168.0      |7.0       |\n",
            "|ES-2015-HD1478548-42271 |2015-09-24 00:00:00|2015-10-01 00:00:00|168.0      |7.0       |\n",
            "|IT-2015-TB2105545-42334 |2015-11-26 00:00:00|2015-12-03 00:00:00|168.0      |7.0       |\n",
            "|IN-2014-TS2150559-41703 |2014-03-05 00:00:00|2014-03-12 00:00:00|168.0      |7.0       |\n",
            "|IN-2015-AB101057-42153  |2015-05-29 00:00:00|2015-06-05 00:00:00|168.0      |7.0       |\n",
            "|ES-2014-TH21235125-41814|2014-06-24 00:00:00|2014-07-01 00:00:00|168.0      |7.0       |\n",
            "|CA-2012-AS10090140-41173|2012-09-21 00:00:00|2012-09-28 00:00:00|168.0      |7.0       |\n",
            "|ID-2015-ST205307-42336  |2015-11-28 00:00:00|2015-12-05 00:00:00|168.0      |7.0       |\n",
            "|CA-2012-AS10090140-41173|2012-09-21 00:00:00|2012-09-28 00:00:00|168.0      |7.0       |\n",
            "|IN-2013-NL1831027-41586 |2013-11-08 00:00:00|2013-11-15 00:00:00|168.0      |7.0       |\n",
            "|MX-2012-NS1850582-41223 |2012-11-10 00:00:00|2012-11-17 00:00:00|168.0      |7.0       |\n",
            "|CA-2015-AH10210140-42363|2015-12-25 00:00:00|2016-01-01 00:00:00|168.0      |7.0       |\n",
            "|ES-2014-JB1600048-41668 |2014-01-29 00:00:00|2014-02-05 00:00:00|168.0      |7.0       |\n",
            "+------------------------+-------------------+-------------------+-----------+----------+\n",
            "only showing top 20 rows\n",
            "\n",
            "+----------+-----+\n",
            "|DiffInDays|count|\n",
            "+----------+-----+\n",
            "|       0.0| 2600|\n",
            "|       7.0| 3057|\n",
            "|       1.0| 1662|\n",
            "|       4.0|14434|\n",
            "|       3.0| 5035|\n",
            "|       2.0| 7026|\n",
            "|       6.0| 6255|\n",
            "|       5.0|11221|\n",
            "+----------+-----+\n",
            "\n"
          ]
        }
      ]
    },
    {
      "cell_type": "markdown",
      "source": [
        "Number of Orders in each month and year"
      ],
      "metadata": {
        "id": "5E7awpW-y2Ba"
      }
    },
    {
      "cell_type": "code",
      "source": [
        "import pyspark.sql.functions as funcs\n",
        "%matplotlib inline\n",
        "%config InlineBackend.rc = {'figure.figsize': (16, 8)}\n",
        "\n",
        "df1=df.select('Order_ID','Order_Date')\n",
        "df2=df1.withColumn('yearly_ordered', funcs.date_format(df1['Order_Date'], 'yyyy')) \\\n",
        "       .withColumn('monthly_ordered', funcs.date_format(df1['Order_Date'], 'MMM'))\n",
        "df2.show()\n",
        "\n",
        "(df2.groupby('yearly_ordered')\n",
        " .agg(\n",
        "     funcs.count(funcs.col('Order_ID')).alias('Order_ID')\n",
        " ).toPandas().plot(kind='bar',color = ['g'], x='yearly_ordered', xlabel=\"Year\", ylabel='Quantity')\n",
        ")\n",
        "\n",
        "(df2.groupby('monthly_ordered')\n",
        " .agg(\n",
        "     funcs.count(funcs.col('Order_ID')).alias('Order_ID')\n",
        " ).toPandas().plot(kind='bar',color = ['r'], x='monthly_ordered', xlabel=\"Month\", ylabel='Quantity')\n",
        ")\n",
        "\n",
        "df3 = df2.select('yearly_ordered')\n",
        "df3.groupby('yearly_ordered').count().show()\n",
        "\n",
        "df4 = df2.select('monthly_ordered')\n",
        "df4.groupby('monthly_ordered').count().show()"
      ],
      "metadata": {
        "colab": {
          "base_uri": "https://localhost:8080/",
          "height": 1000
        },
        "id": "lke5msRbosOi",
        "outputId": "f7ebad5e-acd6-491c-bbba-8ec07fd968f0"
      },
      "execution_count": null,
      "outputs": [
        {
          "output_type": "stream",
          "name": "stdout",
          "text": [
            "+--------------------+-------------------+--------------+---------------+\n",
            "|            Order_ID|         Order_Date|yearly_ordered|monthly_ordered|\n",
            "+--------------------+-------------------+--------------+---------------+\n",
            "|CA-2014-AB1001514...|2014-11-11 00:00:00|          2014|            Nov|\n",
            "|IN-2014-JR162107-...|2014-02-05 00:00:00|          2014|            Feb|\n",
            "|IN-2014-CR127307-...|2014-10-17 00:00:00|          2014|            Oct|\n",
            "|ES-2014-KM1637548...|2014-01-28 00:00:00|          2014|            Jan|\n",
            "|SG-2014-RH9495111...|2014-11-05 00:00:00|          2014|            Nov|\n",
            "|IN-2014-JM156557-...|2014-06-28 00:00:00|          2014|            Jun|\n",
            "|IN-2012-TS2134092...|2012-11-06 00:00:00|          2012|            Nov|\n",
            "|IN-2013-MB1808592...|2013-04-14 00:00:00|          2013|            Apr|\n",
            "|CA-2014-AB1001514...|2014-11-11 00:00:00|          2014|            Nov|\n",
            "|CA-2012-AB1001514...|2012-03-06 00:00:00|          2012|            Mar|\n",
            "|CA-2012-AB1001514...|2012-03-06 00:00:00|          2012|            Mar|\n",
            "|ID-2013-AJ107801-...|2013-04-19 00:00:00|          2013|            Apr|\n",
            "|SA-2012-MM7260110...|2012-12-26 00:00:00|          2012|            Dec|\n",
            "|MX-2013-VF2171518...|2013-11-13 00:00:00|          2013|            Nov|\n",
            "|IN-2014-PF1912027...|2014-06-06 00:00:00|          2014|            Jun|\n",
            "|ES-2015-BP1118545...|2015-07-31 00:00:00|          2015|            Jul|\n",
            "|CA-2012-AB1001514...|2012-02-19 00:00:00|          2012|            Feb|\n",
            "|ES-2015-PJ1883564...|2015-09-08 00:00:00|          2015|            Sep|\n",
            "|IN-2015-JS156857-...|2015-01-31 00:00:00|          2015|            Jan|\n",
            "|TZ-2015-RH9555129...|2015-12-05 00:00:00|          2015|            Dec|\n",
            "+--------------------+-------------------+--------------+---------------+\n",
            "only showing top 20 rows\n",
            "\n",
            "+--------------+-----+\n",
            "|yearly_ordered|count|\n",
            "+--------------+-----+\n",
            "|          2012| 8998|\n",
            "|          2014|13799|\n",
            "|          2013|10962|\n",
            "|          2015|17531|\n",
            "+--------------+-----+\n",
            "\n",
            "+---------------+-----+\n",
            "|monthly_ordered|count|\n",
            "+---------------+-----+\n",
            "|            Oct| 4556|\n",
            "|            Sep| 5958|\n",
            "|            Dec| 6257|\n",
            "|            Aug| 5065|\n",
            "|            May| 3787|\n",
            "|            Jun| 5302|\n",
            "|            Feb| 2209|\n",
            "|            Nov| 6311|\n",
            "|            Mar| 3007|\n",
            "|            Jan| 2611|\n",
            "|            Apr| 3032|\n",
            "|            Jul| 3195|\n",
            "+---------------+-----+\n",
            "\n"
          ]
        },
        {
          "output_type": "display_data",
          "data": {
            "text/plain": [
              "<Figure size 1152x576 with 1 Axes>"
            ],
            "image/png": "[encoded data removed]"
          },
          "metadata": {}
        },
        {
          "output_type": "display_data",
          "data": {
            "text/plain": [
              "<Figure size 1152x576 with 1 Axes>"
            ],
            "image/png": "[encoded data removed]"
          },
          "metadata": {}
        }
      ]
    },
    {
      "cell_type": "markdown",
      "source": [
        "Top 5 regions having maximum sales."
      ],
      "metadata": {
        "id": "JmbHXNyS68lB"
      }
    },
    {
      "cell_type": "code",
      "source": [
        "df1=df.select('Region','Sales')\n",
        "df2 = df1.groupby('Region').sum('Sales').sort('sum(Sales)', ascending=False)\n",
        "df2.show(5)\n"
      ],
      "metadata": {
        "colab": {
          "base_uri": "https://localhost:8080/"
        },
        "id": "Kl5fGJY90wcn",
        "outputId": "bf055863-6011-4952-d80d-ff2ccaede4c1"
      },
      "execution_count": null,
      "outputs": [
        {
          "output_type": "stream",
          "name": "stdout",
          "text": [
            "+-----------------+------------------+\n",
            "|           Region|        sum(Sales)|\n",
            "+-----------------+------------------+\n",
            "|   Western Europe|1731929.6684999957|\n",
            "|  Central America|1223100.6281600003|\n",
            "|          Oceania|1100184.6119999948|\n",
            "|Southeastern Asia| 884423.1690000044|\n",
            "|    Southern Asia| 866572.6769999947|\n",
            "+-----------------+------------------+\n",
            "only showing top 5 rows\n",
            "\n"
          ]
        }
      ]
    },
    {
      "cell_type": "markdown",
      "source": [
        "Top 5 markets having maximum profit."
      ],
      "metadata": {
        "id": "djox8bAJFaXS"
      }
    },
    {
      "cell_type": "code",
      "source": [
        "df1=df.select('Market','Profit')\n",
        "df2 = df1.groupby('Market').sum('Profit').sort('sum(Profit)', ascending=False)\n",
        "df2.show(5)"
      ],
      "metadata": {
        "colab": {
          "base_uri": "https://localhost:8080/"
        },
        "id": "lB7J1D36FZNF",
        "outputId": "fe30c4b3-93a0-4386-af1b-9bd764c3779c"
      },
      "execution_count": null,
      "outputs": [
        {
          "output_type": "stream",
          "name": "stdout",
          "text": [
            "+------------+------------------+\n",
            "|      Market|       sum(Profit)|\n",
            "+------------+------------------+\n",
            "|      Europe|449551.72349999903|\n",
            "|Asia Pacific|403176.03800000204|\n",
            "|        USCA| 304214.4116999998|\n",
            "|       LATAM|221643.48708000052|\n",
            "|      Africa| 88871.63099999998|\n",
            "+------------+------------------+\n",
            "\n"
          ]
        }
      ]
    },
    {
      "cell_type": "markdown",
      "source": [
        "Display those tech products along with their product id which ain't giving any discount to customers."
      ],
      "metadata": {
        "id": "RmE-HyxFVtSe"
      }
    },
    {
      "cell_type": "code",
      "source": [
        "df.select(\"Product_Name\",\"Product_ID\").where(df.Discount<0.1).show()"
      ],
      "metadata": {
        "colab": {
          "base_uri": "https://localhost:8080/"
        },
        "id": "oYLXI27rVxzb",
        "outputId": "8d1cdf6a-d8d3-4ec3-ac4d-7400b34342be"
      },
      "execution_count": null,
      "outputs": [
        {
          "output_type": "stream",
          "name": "stdout",
          "text": [
            "+--------------------+-----------+\n",
            "|        Product_Name| Product_ID|\n",
            "+--------------------+-----------+\n",
            "|    Samsung Convoy 3|TEC-PH-5816|\n",
            "|Sharp Wireless Fa...|TEC-CO-6011|\n",
            "|Novimex Executive...|FUR-CH-5378|\n",
            "|Chromcraft Confer...|FUR-TA-3764|\n",
            "|Sauder Facets Col...|FUR-BO-5957|\n",
            "|          Newell 330|OFF-AR-5309|\n",
            "|Bevis Conference ...|FUR-TA-3420|\n",
            "|Cisco Smart Phone...|TEC-PH-3807|\n",
            "|Harbour Creations...|FUR-CH-4530|\n",
            "|KitchenAid Microw...|OFF-AP-4959|\n",
            "|   Hoover Stove, Red|OFF-AP-4743|\n",
            "|KitchenAid Stove,...|OFF-AP-4967|\n",
            "|Hon Computer Tabl...|FUR-TA-4644|\n",
            "|Carina 42\"Hx23 3/...|OFF-ST-3744|\n",
            "|SAFCO Executive L...|FUR-CH-5774|\n",
            "|KitchenAid Refrig...|OFF-AP-4960|\n",
            "|Motorola Smart Ph...|TEC-PH-5268|\n",
            "|Lesro Conference ...|FUR-TA-5060|\n",
            "|             Staples|OFF-FA-6129|\n",
            "|Office Star Execu...|FUR-CH-5443|\n",
            "+--------------------+-----------+\n",
            "only showing top 20 rows\n",
            "\n"
          ]
        }
      ]
    },
    {
      "cell_type": "markdown",
      "source": [
        "Display all those products along with their product id and category, which are always in loss.\n",
        "\n"
      ],
      "metadata": {
        "id": "97QuhuztV1lV"
      }
    },
    {
      "cell_type": "code",
      "source": [
        "df.select(\"Product_Name\",\"Category\",\"Product_ID\").where(df.Profit<0).show()"
      ],
      "metadata": {
        "colab": {
          "base_uri": "https://localhost:8080/"
        },
        "id": "jDTXOqr6V4xI",
        "outputId": "24972dde-926c-43b2-b96a-cdb0a9fbb6c4"
      },
      "execution_count": null,
      "outputs": [
        {
          "output_type": "stream",
          "name": "stdout",
          "text": [
            "+--------------------+---------------+-----------+\n",
            "|        Product_Name|       Category| Product_ID|\n",
            "+--------------------+---------------+-----------+\n",
            "|Novimex Executive...|      Furniture|FUR-CH-5379|\n",
            "|Motorola Smart Ph...|     Technology|TEC-PH-5267|\n",
            "|  Akro Stacking Bins|Office Supplies|OFF-ST-3078|\n",
            "|Samsung Smart Pho...|     Technology|TEC-PH-5841|\n",
            "|Motorola Smart Ph...|     Technology|TEC-PH-5268|\n",
            "|Cisco CP-7937G Un...|     Technology|TEC-MA-3788|\n",
            "|Bevis Conference ...|      Furniture|FUR-TA-3422|\n",
            "|Bady BDG101FRU Ca...|     Technology|TEC-MA-3329|\n",
            "|Avery Trapezoid E...|Office Supplies|OFF-BI-3324|\n",
            "|Hamilton Beach Re...|Office Supplies|OFF-AP-4501|\n",
            "|Lesro Sheffield C...|      Furniture|FUR-TA-5066|\n",
            "|Avery Recycled Fl...|Office Supplies|OFF-BI-3308|\n",
            "|Panasonic Printer...|     Technology|TEC-MA-5572|\n",
            "|Office Star Execu...|      Furniture|FUR-CH-5442|\n",
            "|Apple Smart Phone...|     Technology|TEC-PH-3149|\n",
            "|Avery 3 1/2\" Disk...|Office Supplies|OFF-BI-3185|\n",
            "|Canon Wireless Fa...|     Technology|TEC-CO-3709|\n",
            "|Sharp Fax Machine...|     Technology|TEC-CO-5998|\n",
            "|Hon 2090 “Pillow ...|      Furniture|FUR-CH-4613|\n",
            "|StarTech Printer,...|     Technology|TEC-MA-6150|\n",
            "+--------------------+---------------+-----------+\n",
            "only showing top 20 rows\n",
            "\n"
          ]
        }
      ]
    },
    {
      "cell_type": "markdown",
      "source": [
        "Display all those products along with country, state and city, which were shipped on the same day of ordering.\n",
        "\n"
      ],
      "metadata": {
        "id": "mcU0XCwPV9br"
      }
    },
    {
      "cell_type": "code",
      "source": [
        "df.select(\"Product_Name\", \"Country\", \"State\", \"City\").where(df.Order_Date==df.Ship_Date).show()"
      ],
      "metadata": {
        "colab": {
          "base_uri": "https://localhost:8080/"
        },
        "id": "PaismqT4WAVJ",
        "outputId": "1e2457ab-32aa-467f-fc60-2f3f9563e5f9"
      },
      "execution_count": null,
      "outputs": [
        {
          "output_type": "stream",
          "name": "stdout",
          "text": [
            "+--------------------+-----------+--------------------+--------------------+\n",
            "|        Product_Name|    Country|               State|                City|\n",
            "+--------------------+-----------+--------------------+--------------------+\n",
            "|Harbour Creations...|     Brazil|              Parana|              Toledo|\n",
            "|Office Star Execu...|      India|             Gujarat|               Surat|\n",
            "|Office Star Execu...|     France|       Ile-de-France|           Montreuil|\n",
            "|Konica Inkjet, White|      India|           Jharkhand|          Jamshedpur|\n",
            "|Motorola Smart Ph...| Mozambique|    Cidade De Maputo|              Maputo|\n",
            "|Samsung Smart Pho...|     Mexico|             Durango|       Gómez Palacio|\n",
            "|Novimex Executive...|      India|         West Bengal|             Naihati|\n",
            "| Hoover Stove, White|    Morocco|    Grand Casablanca|          Casablanca|\n",
            "|Brother Wireless ...|  Australia|     New South Wales|              Sydney|\n",
            "|Hamilton Beach St...|     France|       Ile-de-France|               Paris|\n",
            "|Bevis Conference ...|  Australia|     New South Wales|           Newcastle|\n",
            "|Panasonic Printer...|     France|       Ile-de-France|Boulogne-Billancourt|\n",
            "|Samsung Smart Pho...|     France|Aquitaine-Limousi...|          Le Bouscat|\n",
            "|Breville Refriger...|  Australia|          Queensland|          Gold Coast|\n",
            "|Office Star Execu...|Netherlands|       North Brabant|      Bergen op Zoom|\n",
            "|Apple Smart Phone...|    Germany|        Lower Saxony|             Hanover|\n",
            "|Brother Copy Mach...|    Ecuador|           Pichincha|               Quito|\n",
            "|Motorola Smart Ph...|   Thailand|             Bangkok|             Bangkok|\n",
            "|Enermax Router, B...|      Spain|          Valenciana|            Valencia|\n",
            "|Lesro Computer Ta...|  Australia|            Victoria|           Melbourne|\n",
            "+--------------------+-----------+--------------------+--------------------+\n",
            "only showing top 20 rows\n",
            "\n"
          ]
        }
      ]
    },
    {
      "cell_type": "markdown",
      "source": [
        "Display the count of postal codes which are unavailable."
      ],
      "metadata": {
        "id": "XfyxPmgZWDh6"
      }
    },
    {
      "cell_type": "code",
      "source": [
        "df.select(\"Postal_Code\").where(df.Postal_Code==\"NaN\").count()"
      ],
      "metadata": {
        "colab": {
          "base_uri": "https://localhost:8080/"
        },
        "id": "mY111FmlWGj0",
        "outputId": "68d67152-0a16-4e9d-b7c5-dfdf97c4b560"
      },
      "execution_count": null,
      "outputs": [
        {
          "output_type": "execute_result",
          "data": {
            "text/plain": [
              "41296"
            ]
          },
          "metadata": {},
          "execution_count": 13
        }
      ]
    },
    {
      "cell_type": "markdown",
      "source": [
        "Count the number of products with high order priority"
      ],
      "metadata": {
        "id": "tcZ1kbpDWJna"
      }
    },
    {
      "cell_type": "code",
      "source": [
        "df.select(\"Order_Priority\").where(df.Order_Priority==\"High\").count()\n"
      ],
      "metadata": {
        "colab": {
          "base_uri": "https://localhost:8080/"
        },
        "id": "_DHKug1CWMNO",
        "outputId": "6e5df5ec-a349-45e2-8ed9-4ba9530fcac4"
      },
      "execution_count": null,
      "outputs": [
        {
          "output_type": "execute_result",
          "data": {
            "text/plain": [
              "15501"
            ]
          },
          "metadata": {},
          "execution_count": 14
        }
      ]
    },
    {
      "cell_type": "markdown",
      "source": [
        "Display all those customer names along with product who have bought just single piece of product."
      ],
      "metadata": {
        "id": "8USgYO2EWP2m"
      }
    },
    {
      "cell_type": "code",
      "source": [
        "df.select(\"Customer_Name\",\"Product_Name\").where(df.Quantity==1).show()"
      ],
      "metadata": {
        "colab": {
          "base_uri": "https://localhost:8080/"
        },
        "id": "48K_hzQXWS4M",
        "outputId": "6db0c9c7-5291-4db9-9fce-edc758896745"
      },
      "execution_count": null,
      "outputs": [
        {
          "output_type": "stream",
          "name": "stdout",
          "text": [
            "+------------------+--------------------+\n",
            "|     Customer_Name|        Product_Name|\n",
            "+------------------+--------------------+\n",
            "|     Aaron Bergman|Global Push Butto...|\n",
            "|   Adam Bellavance|Logitech G600 MMO...|\n",
            "|   Adam Bellavance|Acco Hanging Data...|\n",
            "|   Adam Bellavance|Sabrent 4-Port US...|\n",
            "|   Adam Bellavance|Ampad Gold Fibre ...|\n",
            "|         Adam Hart|Fellowes File Car...|\n",
            "|         Adam Hart|Hoover Replacemen...|\n",
            "|Adam Shillingsburg|Belkin 7-Outlet S...|\n",
            "|     Clay Cheatham|Lesro Conference ...|\n",
            "|Adam Shillingsburg|Cardinal Holdit B...|\n",
            "|       Peter McVee|Motorola Smart Ph...|\n",
            "|       Anna Gayman|Hon Conference Ta...|\n",
            "|     Adrian Barton|           Avery 487|\n",
            "|      Adrian Shami|Eldon Image Serie...|\n",
            "|       Aimee Bixby|Acme Elite Stainl...|\n",
            "|       Alan Barnes|Imation Bio 8GB U...|\n",
            "|    Alan Dominguez|1/4 Fold Party De...|\n",
            "|   Alejandro Grove|Hon Executive Lea...|\n",
            "|       Alan Haines|Acco Translucent ...|\n",
            "| Alan Schoenberger|Belkin 8-Outlet P...|\n",
            "+------------------+--------------------+\n",
            "only showing top 20 rows\n",
            "\n"
          ]
        }
      ]
    },
    {
      "cell_type": "markdown",
      "source": [
        "Drop all the rows with null values"
      ],
      "metadata": {
        "id": "854DrecbWWiW"
      }
    },
    {
      "cell_type": "code",
      "source": [
        "df1 = df.na.drop().show()"
      ],
      "metadata": {
        "colab": {
          "base_uri": "https://localhost:8080/"
        },
        "id": "2ZWzeH1aWZF0",
        "outputId": "5f122555-61ae-4024-f964-0a06e1edb9c5"
      },
      "execution_count": null,
      "outputs": [
        {
          "output_type": "stream",
          "name": "stdout",
          "text": [
            "+-------+--------------------+-------------------+-------------------+--------------+------------+--------------+---------+-----------+-------------+--------------+-------------+-----------+------+-----------+---------------+------------+--------------------+------------------+--------+--------+-------------------+-------------+--------------+\n",
            "| Row_ID|            Order_ID|         Order_Date|          Ship_Date|     Ship_Mode| Customer_ID| Customer_Name|  Segment|Postal_Code|         City|         State|      Country|     Region|Market| Product_ID|       Category|Sub-Category|        Product_Name|             Sales|Quantity|Discount|             Profit|Shipping_Cost|Order_Priority|\n",
            "+-------+--------------------+-------------------+-------------------+--------------+------------+--------------+---------+-----------+-------------+--------------+-------------+-----------+------+-----------+---------------+------------+--------------------+------------------+--------+--------+-------------------+-------------+--------------+\n",
            "|40098.0|CA-2014-AB1001514...|2014-11-11 00:00:00|2014-11-13 00:00:00|   First Class|AB-100151402| Aaron Bergman| Consumer|    73120.0|Oklahoma City|      Oklahoma|United States| Central US|  USCA|TEC-PH-5816|     Technology|      Phones|    Samsung Convoy 3|            221.98|     2.0|     0.0|  62.15440000000001|        40.77|          High|\n",
            "|40099.0|CA-2014-AB1001514...|2014-11-11 00:00:00|2014-11-13 00:00:00|   First Class|AB-100151402| Aaron Bergman| Consumer|    73120.0|Oklahoma City|      Oklahoma|United States| Central US|  USCA|FUR-BO-5957|      Furniture|   Bookcases|Sauder Facets Col...|            341.96|     2.0|     0.0| 54.713599999999985|        25.27|          High|\n",
            "|36258.0|CA-2012-AB1001514...|2012-03-06 00:00:00|2012-03-07 00:00:00|   First Class|AB-100151404| Aaron Bergman| Consumer|    98103.0|      Seattle|    Washington|United States| Western US|  USCA|FUR-CH-4421|      Furniture|      Chairs|Global Push Butto...|            48.712|     1.0|     0.2|  5.480099999999997|        11.13|          High|\n",
            "|36259.0|CA-2012-AB1001514...|2012-03-06 00:00:00|2012-03-07 00:00:00|   First Class|AB-100151404| Aaron Bergman| Consumer|    98103.0|      Seattle|    Washington|United States| Western US|  USCA|OFF-AR-5309|Office Supplies|         Art|          Newell 330|             17.94|     3.0|     0.0| 4.6644000000000005|         4.29|          High|\n",
            "|39519.0|CA-2012-AB1001514...|2012-02-19 00:00:00|2012-02-25 00:00:00|Standard Class|AB-100151402| Aaron Bergman| Consumer|    76017.0|    Arlington|         Texas|United States| Central US|  USCA|OFF-ST-3078|Office Supplies|     Storage|  Akro Stacking Bins|            12.624|     2.0|     0.2| -2.524800000000002|         1.97|           Low|\n",
            "|36260.0|CA-2012-AB1001514...|2012-03-06 00:00:00|2012-03-07 00:00:00|   First Class|AB-100151404| Aaron Bergman| Consumer|    98103.0|      Seattle|    Washington|United States| Western US|  USCA|OFF-ST-3744|Office Supplies|     Storage|Carina 42\"Hx23 3/...|            242.94|     3.0|     0.0|  4.858800000000016|         1.28|          High|\n",
            "|38460.0|CA-2012-AH1003014...|2012-04-21 00:00:00|2012-04-23 00:00:00|  Second Class|AH-100301406| Aaron Hawkins|Corporate|    12180.0|         Troy|      New York|United States| Eastern US|  USCA|OFF-FA-6129|Office Supplies|   Fasteners|             Staples|            247.84|     8.0|     0.0|           121.4416|         55.2|      Critical|\n",
            "|40977.0|CA-2013-AH1003014...|2013-12-27 00:00:00|2013-12-31 00:00:00|Standard Class|AH-100301404| Aaron Hawkins|Corporate|    94122.0|San Francisco|    California|United States| Western US|  USCA|TEC-PH-4389|     Technology|      Phones|Geemarc AmpliPOWER60|            668.16|     9.0|     0.2|  75.16799999999992|        45.74|        Medium|\n",
            "|40976.0|CA-2013-AH1003014...|2013-12-27 00:00:00|2013-12-31 00:00:00|Standard Class|AH-100301404| Aaron Hawkins|Corporate|    94122.0|San Francisco|    California|United States| Western US|  USCA|OFF-ST-4291|Office Supplies|     Storage|Fellowes Super St...|             323.1|     2.0|     0.0|  61.38900000000001|         26.7|        Medium|\n",
            "|36651.0|CA-2012-AH1003014...|2012-05-12 00:00:00|2012-05-18 00:00:00|Standard Class|AH-100301404| Aaron Hawkins|Corporate|    90004.0|  Los Angeles|    California|United States| Western US|  USCA|FUR-CH-4840|      Furniture|      Chairs|Iceberg Nesting F...|           279.456|     6.0|     0.2| 20.959199999999996|        11.69|        Medium|\n",
            "|40100.0|CA-2012-AH1003014...|2012-12-30 00:00:00|2012-12-31 00:00:00|   First Class|AH-100301406| Aaron Hawkins|Corporate|    10035.0|New York City|      New York|United States| Eastern US|  USCA|TEC-AC-6340|     Technology| Accessories|Verbatim 25 GB 6x...|34.769999999999996|     3.0|     0.0| 11.474099999999996|         8.22|          High|\n",
            "|34608.0|CA-2014-AH1003014...|2014-03-21 00:00:00|2014-03-26 00:00:00|  Second Class|AH-100301408| Aaron Hawkins|Corporate|    39503.0|     Gulfport|   Mississippi|United States|Southern US|  USCA|FUR-FU-4072|      Furniture| Furnishings|Eldon Image Serie...|             86.45|     7.0|     0.0| 38.038000000000004|         5.73|        Medium|\n",
            "|37425.0|US-2012-AH1003014...|2012-10-24 00:00:00|2012-10-27 00:00:00|   First Class|AH-100301404| Aaron Hawkins|Corporate|    94109.0|San Francisco|    California|United States| Western US|  USCA|OFF-BI-4372|Office Supplies|     Binders|GBC VeloBind Cove...|            49.408|     4.0|     0.2|             18.528|         2.84|          High|\n",
            "|40101.0|CA-2012-AH1003014...|2012-12-30 00:00:00|2012-12-31 00:00:00|   First Class|AH-100301406| Aaron Hawkins|Corporate|    10035.0|New York City|      New York|United States| Eastern US|  USCA|OFF-LA-3231|Office Supplies|      Labels|            Avery 51|              18.9|     3.0|     0.0|  8.693999999999999|          1.3|          High|\n",
            "|38461.0|CA-2012-AH1003014...|2012-04-21 00:00:00|2012-04-23 00:00:00|  Second Class|AH-100301406| Aaron Hawkins|Corporate|    12180.0|         Troy|      New York|United States| Eastern US|  USCA|OFF-BI-2937|Office Supplies|     Binders|ACCOHIDE 3-Ring B...|             9.912|     3.0|     0.2| 3.3452999999999995|          1.2|      Critical|\n",
            "|36652.0|CA-2012-AH1003014...|2012-05-12 00:00:00|2012-05-18 00:00:00|Standard Class|AH-100301404| Aaron Hawkins|Corporate|    90004.0|  Los Angeles|    California|United States| Western US|  USCA|OFF-PA-4014|Office Supplies|       Paper|EcoTones Memo Sheets|               8.0|     2.0|     0.0|               3.84|         1.15|        Medium|\n",
            "|34496.0|CA-2015-AH1003014...|2015-12-19 00:00:00|2015-12-23 00:00:00|Standard Class|AH-100301406| Aaron Hawkins|Corporate|    19134.0| Philadelphia|  Pennsylvania|United States| Eastern US|  USCA|OFF-AR-3276|Office Supplies|         Art|Avery Fluorescent...|            18.704|     7.0|     0.2| 2.3379999999999983|         1.13|        Medium|\n",
            "|32637.0|CA-2015-AS1004514...|2015-01-03 00:00:00|2015-01-05 00:00:00|   First Class|AS-100451408|Aaron Smayling|Corporate|    28540.0| Jacksonville|North Carolina|United States|Southern US|  USCA|TEC-MA-3788|     Technology|    Machines|Cisco CP-7937G Un...|             695.7|     2.0|     0.5|-27.827999999999975|       160.19|          High|\n",
            "|33130.0|CA-2015-AS1004514...|2015-08-02 00:00:00|2015-08-08 00:00:00|Standard Class|AS-100451402|Aaron Smayling|Corporate|    78745.0|       Austin|         Texas|United States| Central US|  USCA|TEC-MA-3329|     Technology|    Machines|Bady BDG101FRU Ca...|          1439.982|     3.0|     0.4|-263.99670000000026|       103.62|        Medium|\n",
            "|40834.0|CA-2014-AS1004514...|2014-09-26 00:00:00|2014-09-28 00:00:00|   First Class|AS-100451404|Aaron Smayling|Corporate|    94110.0|San Francisco|    California|United States| Western US|  USCA|FUR-BO-3176|      Furniture|   Bookcases|Atlantic Metals M...|           477.666|     2.0|    0.15|  84.29399999999997|        43.01|      Critical|\n",
            "+-------+--------------------+-------------------+-------------------+--------------+------------+--------------+---------+-----------+-------------+--------------+-------------+-----------+------+-----------+---------------+------------+--------------------+------------------+--------+--------+-------------------+-------------+--------------+\n",
            "only showing top 20 rows\n",
            "\n"
          ]
        }
      ]
    },
    {
      "cell_type": "markdown",
      "source": [
        "Display the category with highest sales"
      ],
      "metadata": {
        "id": "XJTirmyKWcbR"
      }
    },
    {
      "cell_type": "code",
      "source": [
        "df.agg({\"Sales\":\"max\",\"Category\" : \"max\"}).show()"
      ],
      "metadata": {
        "colab": {
          "base_uri": "https://localhost:8080/"
        },
        "id": "4YXkfedOWfZm",
        "outputId": "8720e19c-5348-4397-c90d-fdc855910bcb"
      },
      "execution_count": null,
      "outputs": [
        {
          "output_type": "stream",
          "name": "stdout",
          "text": [
            "+----------+-------------+\n",
            "|max(Sales)|max(Category)|\n",
            "+----------+-------------+\n",
            "|  22638.48|   Technology|\n",
            "+----------+-------------+\n",
            "\n"
          ]
        }
      ]
    },
    {
      "cell_type": "markdown",
      "source": [
        "Display the minimum sales of each product along with country."
      ],
      "metadata": {
        "id": "B8WzvupxWiXF"
      }
    },
    {
      "cell_type": "code",
      "source": [
        "df.groupby('Product_Name','Country').agg({'Sales': 'min'}).show()\n"
      ],
      "metadata": {
        "colab": {
          "base_uri": "https://localhost:8080/"
        },
        "id": "2_xJ4GgAWk3i",
        "outputId": "05396083-91f2-4507-c375-c3a538ebe414"
      },
      "execution_count": null,
      "outputs": [
        {
          "output_type": "stream",
          "name": "stdout",
          "text": [
            "+--------------------+-------------+------------------+\n",
            "|        Product_Name|      Country|        min(Sales)|\n",
            "+--------------------+-------------+------------------+\n",
            "|KitchenAid Stove,...|    Australia| 4624.290000000001|\n",
            "|Hamilton Beach St...|    Nicaragua|            1805.9|\n",
            "|Lesro Conference ...|    Australia|2993.0249999999996|\n",
            "|Cisco Signal Boos...|        China|151.92000000000002|\n",
            "|HP Fax Machine, L...|        Italy|            599.88|\n",
            "|Acco Binder Cover...|       Canada|             54.72|\n",
            "|Hewlett Fax and C...|      Germany|           1347.57|\n",
            "|Bretford CR8500 S...|United States|           481.176|\n",
            "|Ikea Library with...|     Pakistan|2042.5440000000003|\n",
            "|Smead Lockers, In...|    Australia|            895.05|\n",
            "|Heavy-Duty E-Z-D ...|United States|2.1819999999999995|\n",
            "|Eldon Wave Desk A...|United States|              4.16|\n",
            "|Canon Wireless Fa...|      Belarus|             756.6|\n",
            "|Brites Rubber Ban...|United States|             3.168|\n",
            "|Sauder Floating S...|      Germany|          1050.732|\n",
            "|Safco Floating Sh...|     Thailand|         1123.1703|\n",
            "|Ibico Binding Mac...|        Japan|            457.92|\n",
            "|     Stackable Trays|United States| 4.928000000000001|\n",
            "|Nokia Audio Dock,...|  Philippines|           375.165|\n",
            "|Apple Signal Boos...|     Malaysia|            551.76|\n",
            "+--------------------+-------------+------------------+\n",
            "only showing top 20 rows\n",
            "\n"
          ]
        }
      ]
    },
    {
      "cell_type": "markdown",
      "source": [
        "Display the product name with highest discount."
      ],
      "metadata": {
        "id": "_qetCDA6WpVq"
      }
    },
    {
      "cell_type": "code",
      "source": [
        "df.agg({\"Discount\":\"max\",\"Product_Name\" : \"max\"}).show()"
      ],
      "metadata": {
        "colab": {
          "base_uri": "https://localhost:8080/"
        },
        "id": "QJKGylp4Wr7V",
        "outputId": "a3ba25c6-1241-4d21-83d9-50322fcd8d9e"
      },
      "execution_count": null,
      "outputs": [
        {
          "output_type": "stream",
          "name": "stdout",
          "text": [
            "+-------------+--------------------+\n",
            "|max(Discount)|   max(Product_Name)|\n",
            "+-------------+--------------------+\n",
            "|         0.85|netTALK DUO VoIP ...|\n",
            "+-------------+--------------------+\n",
            "\n"
          ]
        }
      ]
    }
  ]
}